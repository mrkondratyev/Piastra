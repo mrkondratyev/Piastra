{
 "cells": [
  {
   "cell_type": "code",
   "execution_count": null,
   "id": "2536db2e-49bf-4758-9e01-66cc812fb456",
   "metadata": {},
   "outputs": [],
   "source": [
    "'''\n",
    "parameters of simulations\n",
    "Nx1 - число точек в первом измерении\n",
    "Nx2 - число точек во втором измерении\n",
    "setup - модель\n",
    "setup = 'BW1D', Nx1 = xx, Nx2 = 1 'BW1D0' - no field\n",
    "setup = 'toth1D', Nx1 = xx, Nx2 = 1, 'toth1D0' - no field\n",
    "setup = 'expl2D', Nx1 = Nx2 = xx\n",
    "setup = 'OT2D', Nx1 = Nx2 = xx\n",
    "flux_type = 'LLF', 'HLL'\n",
    "rec_type = 'PCM', 'PLM', 'PPM', 'PPMorig', 'WENO'\n",
    "RK_integr = 'RK1', 'RK2', 'RK3' \n",
    "'''\n",
    "from piastra2D_easy_mhd import *\n",
    "Nx1 = 1000\n",
    "Nx2 = 1\n",
    "setup = 'toth1D'\n",
    "CFL = 0.6\n",
    "flux_type = 'HLL'\n",
    "rec_type = 'PPM'\n",
    "RK_integr = 'RK3'\n",
    "\n",
    "\n",
    "easy_mhd_solver_call(Nx1, Nx2, setup, CFL, flux_type, rec_type, RK_integr)\n"
   ]
  },
  {
   "cell_type": "code",
   "execution_count": null,
   "id": "a55299b2-ab45-4bec-887d-494fc2d3a480",
   "metadata": {},
   "outputs": [],
   "source": [
    "''' \n",
    "\n",
    "\n",
    "\n",
    "\n",
    "\n",
    "\n",
    "\n",
    "\n",
    "\n",
    "\n",
    "\n",
    "\n",
    "\n",
    "\n",
    "\n",
    "\n",
    "\n",
    "\n",
    "\n",
    "\n",
    "'''"
   ]
  },
  {
   "cell_type": "code",
   "execution_count": null,
   "id": "801437c6-9363-4a22-87fd-12c7acd96446",
   "metadata": {},
   "outputs": [],
   "source": []
  }
 ],
 "metadata": {
  "kernelspec": {
   "display_name": "Python 3 (ipykernel)",
   "language": "python",
   "name": "python3"
  },
  "language_info": {
   "codemirror_mode": {
    "name": "ipython",
    "version": 3
   },
   "file_extension": ".py",
   "mimetype": "text/x-python",
   "name": "python",
   "nbconvert_exporter": "python",
   "pygments_lexer": "ipython3",
   "version": "3.11.7"
  }
 },
 "nbformat": 4,
 "nbformat_minor": 5
}
