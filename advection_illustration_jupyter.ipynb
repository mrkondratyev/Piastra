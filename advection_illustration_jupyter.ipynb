{
 "cells": [
  {
   "cell_type": "code",
   "execution_count": null,
   "id": "02477789-eef0-4fad-aa68-60c6aae055a6",
   "metadata": {},
   "outputs": [],
   "source": [
    "'''\n",
    "parameters of simulations\n",
    "Nx1 - число точек в первом измерении\n",
    "Nx2 - число точек во втором измерении\n",
    "setup - модель (xx - число точек вдоль направления)\n",
    "setup = '2D' - Nx1 = Nx2 = xx\n",
    "setup = '1D', Nx1 = xx, Nx2 = 1 \n",
    "flux_type = 'adv', 'LW'\n",
    "rec_type = 'PCM', 'PLM', 'PPM', 'PPMorig', 'WENO'\n",
    "RK_integr = 'RK1', 'RK2', 'RK3' \n",
    "'''\n",
    "from piastra2D_easy_advection import *\n",
    "Nx1 = 128\n",
    "Nx2 = 128\n",
    "setup = '2D'\n",
    "CFL = 0.4 \n",
    "flux_type = 'adv'\n",
    "rec_type = 'PLM'\n",
    "RK_integr = 'RK2'\n",
    "\n",
    "easy_advection_solver_call(Nx1, Nx2, setup, CFL, flux_type, rec_type, RK_integr)\n"
   ]
  },
  {
   "cell_type": "code",
   "execution_count": null,
   "id": "b9027205-a342-42ec-b82b-e95acbe1b2ca",
   "metadata": {},
   "outputs": [],
   "source": [
    "\n",
    "\n",
    "\n",
    "\n",
    "\n",
    "\n",
    "\n",
    "\n",
    "\n",
    "\n",
    "\n",
    "\n",
    "\n",
    "\n",
    "\n"
   ]
  }
 ],
 "metadata": {
  "kernelspec": {
   "display_name": "Python 3 (ipykernel)",
   "language": "python",
   "name": "python3"
  },
  "language_info": {
   "codemirror_mode": {
    "name": "ipython",
    "version": 3
   },
   "file_extension": ".py",
   "mimetype": "text/x-python",
   "name": "python",
   "nbconvert_exporter": "python",
   "pygments_lexer": "ipython3",
   "version": "3.11.7"
  }
 },
 "nbformat": 4,
 "nbformat_minor": 5
}
