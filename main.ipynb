{
 "cells": [
  {
   "cell_type": "markdown",
   "id": "35e04465-e17f-4a5b-84a1-177c768eed81",
   "metadata": {},
   "source": [
    "# main.ipynb\n",
    "\n",
    "**Main driver for advection, hydrodynamics (HD), and magnetohydrodynamics (MHD) simulations in 2D (X,Y) Cartesian and Cylindrical axisymmetric (R,Z) geometries.**\n",
    "\n",
    "This notebook handles:\n",
    "- Grid construction  \n",
    "- Initial condition setup  \n",
    "- Solver selection  \n",
    "- Simulation control loop  \n",
    "- Optional visualization  \n",
    "\n",
    "---\n",
    "\n",
    "## Available Modes\n",
    "- **`'adv'`** : Linear advection problems  \n",
    "- **`'HD'`**  : Hydrodynamics problems  \n",
    "- **`'MHD'`** : Magnetohydrodynamics problems  \n",
    "\n",
    "---\n",
    "\n",
    "## Available Problems\n",
    "\n",
    "### Advection (see `advection_init_cond.py`)\n",
    "- `smooth1D` : IC_advection1D_smooth  \n",
    "- `disc1D`   : IC_advection1D_disc  \n",
    "- `smooth2D` : IC_advection2D_smooth  \n",
    "- `disc2D`   : IC_advection2D_disc  \n",
    "- `user_defined` : IC_advection_user_defined  \n",
    "\n",
    "### Hydrodynamics (see `hydro_init_cond.py`)\n",
    "- `sod1Dcart` : IC_hydro1D_Sod(cartesian)  \n",
    "- `sod1Dcyl`  : IC_hydro1D_Sod(cylindrical)  \n",
    "- `sod1Dpol`  : IC_hydro1D_Sod(polar)  \n",
    "- `strong1D`  : IC_hydro1D_strong_shock  \n",
    "- `DBW1D`     : IC_hydro1D_DBW  \n",
    "- `KHI`       : IC_hydro2D_KHI  \n",
    "- `RTI`       : IC_hydro2D_RTI  \n",
    "- `sod2Dcart` : IC_hydro2D_Sod  \n",
    "- `sedov2Dcart` : IC_hydro2D_Sedov_cart  \n",
    "- `sedov2Dcyl`  : IC_hydro2D_Sedov_cyl  \n",
    "- `user_defined` : IC_hydro_user_defined  \n",
    "\n",
    "### Magnetohydrodynamics (see `MHD_init_cond.py`)\n",
    "- `BW1D`       : IC_MHD1D_BW  \n",
    "- `toth1D`     : IC_MHD1D_Toth  \n",
    "- `blast-cart` : IC_MHD2D_blast_cart  \n",
    "- `blast-cyl`  : IC_MHD2D_blast_cyl  \n",
    "- `OT2D`       : IC_MHD2D_OT  \n",
    "- `user_defined` : IC_MHD_user_defined  \n",
    "\n",
    "---\n",
    "\n",
    "## Parameters (`Parameters` class)\n",
    "\n",
    "- **mode**       : `str` – Simulation type (`'adv'`, `'HD'`, `'MHD'`)  \n",
    "- **problem**    : `str` – Problem name (depends on mode)  \n",
    "- **Nx1, Nx2**   : `int` – Grid resolution  \n",
    "- **flux_type**  : `str` – Flux solver (`'adv'`, `'HLLC'`, `'HLLD'`, etc.)  \n",
    "- **divb_tr**    : `str` – Divergence cleaning method (`'CT'`, `'8wave'`) *(MHD only)*  \n",
    "- **rec_type**   : `str` – Reconstruction method (`'PLM'`, `'PPM'`, `'WENO'`, etc.)  \n",
    "- **RK_order**   : `str` – Runge-Kutta order (`'RK1'`, `'RK2'`, `'RK3'`)  \n",
    "- **CFL**        : `float` – CFL stability number  \n",
    "- **timefin**    : `float` – Final physical time  \n",
    "- **timenow**    : `float` – Current physical time  \n",
    "\n",
    "---\n",
    "\n",
    "## Available Parameters\n",
    "\n",
    "### All modes\n",
    "- **Required**:\n",
    "  - `mode` (str)  \n",
    "  - `problem` (str)  \n",
    "  - `Nx1, Nx2` (int)  \n",
    "- **Optional**:\n",
    "  - `CFL` (float < 1)  \n",
    "  - `rec_type` = `'PLM'`, `'PPM'`, `'PCM'`, `'PPMorig'`, `'WENO'`  \n",
    "  - `RK_order` = `'RK1'`, `'RK2'`, `'RK3'`  \n",
    "\n",
    "### Advection\n",
    "- `flux_type` = `'adv'`, `'LW'`  \n",
    "\n",
    "### Hydrodynamics\n",
    "- `flux_type` = `'LLF'`, `'HLL'`, `'HLLC'`, `'Roe'`  \n",
    "\n",
    "### Magnetohydrodynamics\n",
    "- `flux_type` = `'LLF'`, `'HLL'`, `'HLLD'`  \n",
    "- `divb_tr` = `'CT'`, `'8wave'`  \n",
    "- `CFL` < 1  \n",
    "\n",
    "---\n",
    "\n",
    "**Author:** mrkondratyev"
   ]
  },
  {
   "cell_type": "code",
   "execution_count": null,
   "id": "04964478-9f99-46b9-a5ae-b3b167cb0ab0",
   "metadata": {},
   "outputs": [],
   "source": [
    "# Imports\n",
    "import matplotlib.pyplot as plt\n",
    "import numpy as np\n",
    "\n",
    "from grid_setup import Grid\n",
    "from sim_state import SimState\n",
    "from parameters import Parameters\n",
    "from MHD_one_step_CT import MHD2D_CT\n",
    "from MHD_one_step_8wave import MHD2D_8wave\n",
    "from hydro_one_step import Hydro2D\n",
    "from advection_one_step import Advection2D\n",
    "from helpers import run_simulation, initial_model\n",
    "from visualization import plot_setup\n"
   ]
  },
  {
   "cell_type": "markdown",
   "id": "2ab7793d-e887-4284-b2ab-1c10095908a2",
   "metadata": {},
   "source": [
    "## Solver Dispatch Dictionary\n",
    "This replaces long `if/elif` blocks with a clean lookup.\n"
   ]
  },
  {
   "cell_type": "code",
   "execution_count": null,
   "id": "60411a84-a39f-42a0-8cb2-c31a4a21488d",
   "metadata": {},
   "outputs": [],
   "source": [
    "SOLVER_DISPATCH = {\n",
    "    \"adv\": lambda grid, state, eos, par: Advection2D(grid, state, par),\n",
    "    \"HD\":  lambda grid, state, eos, par: Hydro2D(grid, state, eos, par),\n",
    "    \"MHD\": lambda grid, state, eos, par: (\n",
    "        MHD2D_CT(grid, state, eos, par)\n",
    "        if par.divb_tr == \"CT\" else\n",
    "        MHD2D_8wave(grid, state, eos, par)\n",
    "    ),\n",
    "}\n"
   ]
  },
  {
   "cell_type": "markdown",
   "id": "375144d9-9e86-47ef-9769-a9c1f5063673",
   "metadata": {},
   "source": [
    "## Define Simulation Parameters\n",
    "You can edit these interactively and re-run.\n"
   ]
  },
  {
   "cell_type": "code",
   "execution_count": null,
   "id": "b5c5b701-dd78-4f74-9b4b-66d2a6e21922",
   "metadata": {},
   "outputs": [],
   "source": [
    "par = Parameters(\n",
    "    mode=\"MHD\",          # \"adv\", \"HD\", or \"MHD\"\n",
    "    problem=\"blast-cart\",# problem type\n",
    "    Nx1=64,              # grid resolution x1\n",
    "    Nx2=64,              # grid resolution x2\n",
    "    rec_type='PPM',      # reconstruction type\n",
    "    RK_order='RK3',      # Runge-Kutta order\n",
    "    flux_type=\"HLL\",    # flux solver\n",
    "    divb_tr='CT',     # divergence control: \"CT\" or \"8wave\", MHD only \n",
    ")\n",
    "\n",
    "print(par)  # display configuration\n"
   ]
  },
  {
   "cell_type": "markdown",
   "id": "72ef177c-442c-404d-adb9-3cb2ac7286cd",
   "metadata": {},
   "source": [
    "## Initialize Grid and simulated State\n"
   ]
  },
  {
   "cell_type": "code",
   "execution_count": null,
   "id": "16e81697-11de-4c65-a216-1a043ab63e03",
   "metadata": {},
   "outputs": [],
   "source": [
    "grid = Grid(par.Nx1, par.Nx2, par.Ngc)\n",
    "simstate = SimState(grid, par)\n",
    "grid, simstate, par, eos = initial_model(grid, simstate, par)\n"
   ]
  },
  {
   "cell_type": "markdown",
   "id": "8578e4ce-a12d-4034-927e-a82b149f5850",
   "metadata": {},
   "source": [
    "## Select Solver\n"
   ]
  },
  {
   "cell_type": "code",
   "execution_count": null,
   "id": "e3a38f06-f4a7-44f1-9f79-141e3ac7b4d1",
   "metadata": {},
   "outputs": [],
   "source": [
    "solver = SOLVER_DISPATCH[par.mode](grid, simstate, eos, par)\n"
   ]
  },
  {
   "cell_type": "markdown",
   "id": "2b2d5108-13d1-4951-bd9d-5aea6f7acfd0",
   "metadata": {},
   "source": [
    "## Run Simulation\n"
   ]
  },
  {
   "cell_type": "code",
   "execution_count": null,
   "id": "b71112c9-16d5-4600-8c4b-0dd5427613a4",
   "metadata": {},
   "outputs": [],
   "source": [
    "#number of timesteps for visualisation\n",
    "nsteps_visual = 100\n",
    "\n",
    "simstate, par.timenow = run_simulation(\n",
    "    grid, simstate, par, solver, simstate.dens, nsteps_visual\n",
    ")\n"
   ]
  },
  {
   "cell_type": "markdown",
   "id": "c98b98d3-00e0-4d9e-ab38-8a56a7912780",
   "metadata": {},
   "source": [
    "## Visualization (Optional)\n"
   ]
  },
  {
   "cell_type": "code",
   "execution_count": null,
   "id": "0a20d566-6d7c-4aa9-b34c-cf3e2239bab2",
   "metadata": {},
   "outputs": [],
   "source": [
    "if par.mode == \"MHD\":\n",
    "    line, ax, fig, im = plot_setup(grid, simstate.divB, par.timenow)\n",
    "    plt.show()\n"
   ]
  },
  {
   "cell_type": "code",
   "execution_count": null,
   "id": "f5c3c766-0970-4d08-b538-46f52253ed50",
   "metadata": {},
   "outputs": [],
   "source": []
  }
 ],
 "metadata": {
  "kernelspec": {
   "display_name": "Python 3 (ipykernel)",
   "language": "python",
   "name": "python3"
  },
  "language_info": {
   "codemirror_mode": {
    "name": "ipython",
    "version": 3
   },
   "file_extension": ".py",
   "mimetype": "text/x-python",
   "name": "python",
   "nbconvert_exporter": "python",
   "pygments_lexer": "ipython3",
   "version": "3.11.7"
  }
 },
 "nbformat": 4,
 "nbformat_minor": 5
}
