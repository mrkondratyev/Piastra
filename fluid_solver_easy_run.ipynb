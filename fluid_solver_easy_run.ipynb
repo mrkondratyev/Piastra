{
 "cells": [
  {
   "cell_type": "code",
   "execution_count": null,
   "id": "cb4e21c5-a015-467d-9f6b-1e72760348bb",
   "metadata": {},
   "outputs": [],
   "source": [
    "'''\n",
    "parameters of simulations\n",
    "Nx1 - число точек в первом измерении\n",
    "Nx2 - число точек во втором измерении\n",
    "setup - модель\n",
    "setup = 'RTI' - RT instability, Nx1 = 128, Nx2 = Nx1/2\n",
    "setup = 'KHI' - KH instability, Nx1 = Nx2 = xx\n",
    "setup = 'Sod1D', Nx1 = xx, Nx2 = 1 -- Sod Shock tube\n",
    "setup = 'strong1D', Nx1 = xx, Nx2 = 1 -- shock tube with strong shock\n",
    "setup = 'DBW1D', Nx1 = xx, Nx2 = 1 -- Double blast wave problem\n",
    "setup = 'sod_cyl2D', Nx1 = Nx2 = xx, Cylindrical Sod shock tube \n",
    "setup = 'Sedov2D', Nx1 = Nx2 = xx Sedov blast wave in 2D \n",
    "flux_type = 'LLF', 'HLL', 'HLLC'\n",
    "rec_type = 'PCM', 'PLM', 'PPM', 'PPMorig', 'WENO'\n",
    "RK_integr = 'RK1', 'RK2', 'RK3' \n",
    "'''\n",
    "from piastra2D_easy_fluid import *\n",
    "Nx1 = 500\n",
    "Nx2 = 1\n",
    "setup = 'strong1D'\n",
    "CFL = 0.4\n",
    "flux_type = 'HLLC'\n",
    "rec_type = 'PPM'\n",
    "RK_integr = 'RK3'\n",
    "\n",
    "easy_fluid_solver_call(Nx1, Nx2, setup, CFL, flux_type, rec_type, RK_integr)"
   ]
  },
  {
   "cell_type": "code",
   "execution_count": null,
   "id": "be005a98-b817-4f67-8127-8238f71cd797",
   "metadata": {},
   "outputs": [],
   "source": [
    "''' \n",
    "\n",
    "\n",
    "\n",
    "\n",
    "\n",
    "\n",
    "\n",
    "\n",
    "\n",
    "\n",
    "\n",
    "\n",
    "\n",
    "\n",
    "\n",
    "\n",
    "\n",
    "\n",
    "\n",
    "\n",
    "'''"
   ]
  }
 ],
 "metadata": {
  "kernelspec": {
   "display_name": "Python 3 (ipykernel)",
   "language": "python",
   "name": "python3"
  },
  "language_info": {
   "codemirror_mode": {
    "name": "ipython",
    "version": 3
   },
   "file_extension": ".py",
   "mimetype": "text/x-python",
   "name": "python",
   "nbconvert_exporter": "python",
   "pygments_lexer": "ipython3",
   "version": "3.11.7"
  }
 },
 "nbformat": 4,
 "nbformat_minor": 5
}
