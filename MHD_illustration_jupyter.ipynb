{
 "cells": [
  {
   "cell_type": "code",
   "execution_count": null,
   "id": "2536db2e-49bf-4758-9e01-66cc812fb456",
   "metadata": {},
   "outputs": [],
   "source": [
    "'''\n",
    "parameters of simulations\n",
    "Nx1 - число точек в первом измерении\n",
    "Nx2 - число точек во втором измерении\n",
    "setup - модель\n",
    "setup = 'BW1D', Nx1 = xx, Nx2 = 1 'BW1D0' - no field\n",
    "setup = 'toth1D', Nx1 = xx, Nx2 = 1, 'toth1D0' - no field\n",
    "setup = 'expl2D', Nx1 = Nx2 = xx\n",
    "setup = 'OT2D', Nx1 = Nx2 = xx\n",
    "flux_type = 'LLF', 'HLL'\n",
    "rec_type = 'PCM', 'PLM', 'PPM', 'PPMorig', 'WENO'\n",
    "RK_integr = 'RK1', 'RK2', 'RK3' \n",
    "divB_treat = '8wave', 'CT'\n",
    "'''\n",
    "from piastra2D_easy_mhd import *\n",
    "Nx1 = 100\n",
    "Nx2 = 100\n",
    "setup = 'OT2D'\n",
    "CFL = 0.4\n",
    "flux_type = 'HLL'\n",
    "rec_type = 'PPM'\n",
    "RK_integr = 'RK3'\n",
    "divB_treat = 'CT'\n",
    "\n",
    "easy_mhd_solver_call(Nx1, Nx2, setup, CFL, flux_type, rec_type, RK_integr, divB_treat)\n"
   ]
  },
  {
   "cell_type": "code",
   "execution_count": null,
   "id": "80feca95-165c-4dc0-9bf7-67a81d5c96a2",
   "metadata": {},
   "outputs": [],
   "source": [
    "\n",
    "\n",
    "\n",
    "\n",
    "\n",
    "\n",
    "\n",
    "\n",
    "\n",
    "\n",
    "\n",
    "\n",
    "\n",
    "\n",
    "\n"
   ]
  }
 ],
 "metadata": {
  "kernelspec": {
   "display_name": "Python 3 (ipykernel)",
   "language": "python",
   "name": "python3"
  },
  "language_info": {
   "codemirror_mode": {
    "name": "ipython",
    "version": 3
   },
   "file_extension": ".py",
   "mimetype": "text/x-python",
   "name": "python",
   "nbconvert_exporter": "python",
   "pygments_lexer": "ipython3",
   "version": "3.11.7"
  }
 },
 "nbformat": 4,
 "nbformat_minor": 5
}
